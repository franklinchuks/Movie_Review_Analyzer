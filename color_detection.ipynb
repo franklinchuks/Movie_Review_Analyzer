{
 "cells": [
  {
   "cell_type": "code",
   "execution_count": 1,
   "metadata": {},
   "outputs": [],
   "source": [
    "#To load the image and the CSV file using OpenCV and Pandas, you can use the following code:\n",
    "\n",
    "\n",
    "# Import libraries\n",
    "import cv2\n",
    "import pandas as pd\n",
    "\n",
    "# Read the image\n",
    "img = cv2.imread(\"colorpic.jpg\")\n",
    "\n",
    "# Read the CSV file\n",
    "index = [\"color\", \"color_name\", \"hex\", \"R\", \"G\", \"B\"]\n",
    "data = pd.read_csv(\"colors.csv\", names=index, header=None)\n",
    "\n"
   ]
  },
  {
   "cell_type": "code",
   "execution_count": 2,
   "metadata": {},
   "outputs": [
    {
     "ename": "ModuleNotFoundError",
     "evalue": "No module named 'nltk'",
     "output_type": "error",
     "traceback": [
      "\u001b[1;31m---------------------------------------------------------------------------\u001b[0m",
      "\u001b[1;31mModuleNotFoundError\u001b[0m                       Traceback (most recent call last)",
      "\u001b[1;32mc:\\Users\\frank\\Downloads\\tmdb_5000_credits.csv\\blank2.ipynb Cell 2\u001b[0m line \u001b[0;36m2\n\u001b[0;32m      <a href='vscode-notebook-cell:/c%3A/Users/frank/Downloads/tmdb_5000_credits.csv/blank2.ipynb#W1sZmlsZQ%3D%3D?line=0'>1</a>\u001b[0m \u001b[39m# Import libraries\u001b[39;00m\n\u001b[1;32m----> <a href='vscode-notebook-cell:/c%3A/Users/frank/Downloads/tmdb_5000_credits.csv/blank2.ipynb#W1sZmlsZQ%3D%3D?line=1'>2</a>\u001b[0m \u001b[39mimport\u001b[39;00m \u001b[39mnltk\u001b[39;00m\n\u001b[0;32m      <a href='vscode-notebook-cell:/c%3A/Users/frank/Downloads/tmdb_5000_credits.csv/blank2.ipynb#W1sZmlsZQ%3D%3D?line=2'>3</a>\u001b[0m \u001b[39mfrom\u001b[39;00m \u001b[39mnltk\u001b[39;00m\u001b[39m.\u001b[39;00m\u001b[39mcorpus\u001b[39;00m \u001b[39mimport\u001b[39;00m stopwords\n\u001b[0;32m      <a href='vscode-notebook-cell:/c%3A/Users/frank/Downloads/tmdb_5000_credits.csv/blank2.ipynb#W1sZmlsZQ%3D%3D?line=3'>4</a>\u001b[0m \u001b[39mfrom\u001b[39;00m \u001b[39mnltk\u001b[39;00m\u001b[39m.\u001b[39;00m\u001b[39mstem\u001b[39;00m \u001b[39mimport\u001b[39;00m WordNetLemmatizer\n",
      "\u001b[1;31mModuleNotFoundError\u001b[0m: No module named 'nltk'"
     ]
    }
   ],
   "source": [
    "#To implement a mouse click event that returns the coordinates and RGB values of the pixel where the mouse pointer is clicked, you can use the following code:\n",
    "\n",
    "\n",
    "# Define global variables\n",
    "clicked = False\n",
    "r = g = b = xpos = ypos = 0\n",
    "\n",
    "# Define a callback function for the mouse event\n",
    "def draw_function(event, x, y, flags, param):\n",
    "    global clicked, r, g, b, xpos, ypos\n",
    "    if event == cv2.EVENT_LBUTTONDBLCLK:\n",
    "        clicked = True\n",
    "        xpos = x\n",
    "        ypos = y\n",
    "        b, g, r = img[y, x]\n",
    "        b = int(b)\n",
    "        g = int(g)\n",
    "        r = int(r)\n",
    "\n",
    "# Create a window and set the mouse callback function\n",
    "cv2.namedWindow(\"Color Detection\")\n",
    "cv2.setMouseCallback(\"Color Detection\", draw_function)\n",
    "\n"
   ]
  },
  {
   "cell_type": "code",
   "execution_count": null,
   "metadata": {},
   "outputs": [],
   "source": [
    "#To match the RGB values with the CSV file and display the name of the color on the image, you can use the following code:\n",
    "\n",
    "# Define a function to calculate the minimum distance from all colors and get the most matching color\n",
    "def get_color_name(R, G, B):\n",
    "    minimum = 10000\n",
    "    for i in range(len(data)):\n",
    "        d = abs(R - int(data.loc[i, \"R\"])) + abs(G - int(data.loc[i, \"G\"])) + abs(B - int(data.loc[i, \"B\"]))\n",
    "        if d <= minimum:\n",
    "            minimum = d\n",
    "            cname = data.loc[i, \"color_name\"]\n",
    "    return cname\n",
    "\n",
    "# Define a loop to display the image and the color name\n",
    "while True:\n",
    "    cv2.imshow(\"Color Detection\", img)\n",
    "    if clicked:\n",
    "        # Draw a rectangle around the clicked pixel\n",
    "        cv2.rectangle(img, (20, 20), (750, 60), (b, g, r), -1)\n",
    "        # Get the color name and show it on the image\n",
    "        text = get_color_name(r, g, b) + \" R=\" + str(r) + \" G=\" + str(g) + \" B=\" + str(b)\n",
    "        cv2.putText(img, text, (50, 50), 2, 0.8, (255, 255, 255), 2, cv2.LINE_AA)\n",
    "        # If the color is very light, display the text in black color\n",
    "        if r + g + b >= 600:\n",
    "            cv2.putText(img, text, (50, 50), 2, 0.8, (0, 0, 0), 2, cv2.LINE_AA)\n",
    "        clicked = False\n",
    "    # Break the loop when user hits 'esc' key    \n",
    "    if cv2.waitKey(20) & 0xFF ==27:\n",
    "        break\n",
    "cv2.destroyAllWindows()\n",
    "\n"
   ]
  }
 ],
 "metadata": {
  "kernelspec": {
   "display_name": "Python 3",
   "language": "python",
   "name": "python3"
  },
  "language_info": {
   "codemirror_mode": {
    "name": "ipython",
    "version": 3
   },
   "file_extension": ".py",
   "mimetype": "text/x-python",
   "name": "python",
   "nbconvert_exporter": "python",
   "pygments_lexer": "ipython3",
   "version": "3.11.1"
  }
 },
 "nbformat": 4,
 "nbformat_minor": 2
}
